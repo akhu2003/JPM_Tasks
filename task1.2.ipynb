{
 "cells": [
  {
   "cell_type": "code",
   "execution_count": 338,
   "id": "166fcaa0",
   "metadata": {},
   "outputs": [],
   "source": [
    "import pandas as pd\n",
    "import numpy as np\n",
    "import matplotlib.pyplot as plt\n",
    "import scipy.stats as stats\n",
    "import scipy.odr as odr\n",
    "from scipy.optimize import curve_fit\n",
    "from sklearn.metrics import mean_squared_error\n",
    "from datetime import datetime\n",
    "from sklearn.preprocessing import MinMaxScaler,StandardScaler"
   ]
  },
  {
   "cell_type": "code",
   "execution_count": 394,
   "id": "44b106f5",
   "metadata": {},
   "outputs": [],
   "source": [
    "df = pd.read_csv('natgas.csv')\n",
    "df['Dates'] = pd.to_datetime(df['Dates'], format='%m/%d/%y')\n",
    "df['Year'] = df['Dates'].dt.year\n",
    "df['Month'] = df['Dates'].dt.month\n",
    "df = df.drop('Dates', axis=1)\n",
    "df_20 = df[df['Year'] == 2020]\n",
    "np20 = df_20['Prices'].to_numpy()\n",
    "df_21 = df[df['Year'] == 2021]\n",
    "np21 = df_21['Prices'].to_numpy()\n",
    "df_22 = df[df['Year'] == 2022]\n",
    "np22 = df_22['Prices'].to_numpy()\n",
    "df_23 = df[df['Year'] == 2023]\n",
    "np23 = df_23['Prices'].to_numpy()\n",
    "df_24 = df[df['Year'] == 2024]\n",
    "np24 = df_24['Prices'].to_numpy()\n",
    "lst = [df_20,df_21,df_22,df_23,df_24]"
   ]
  },
  {
   "cell_type": "code",
   "execution_count": 340,
   "id": "7b19fc1d",
   "metadata": {},
   "outputs": [
    {
     "data": {
      "text/plain": [
       "F_onewayResult(statistic=14.278610601122846, pvalue=1.70458197611709e-07)"
      ]
     },
     "execution_count": 340,
     "metadata": {},
     "output_type": "execute_result"
    }
   ],
   "source": [
    "##conclude there is sig diff in prices\n",
    "stats.f_oneway(np20,np21,np22,np23,np24)"
   ]
  },
  {
   "cell_type": "code",
   "execution_count": 341,
   "id": "905a0e92",
   "metadata": {},
   "outputs": [
    {
     "data": {
      "image/png": "[encoded data removed]",
      "text/plain": [
       "<Figure size 432x288 with 1 Axes>"
      ]
     },
     "metadata": {
      "needs_background": "light"
     },
     "output_type": "display_data"
    },
    {
     "data": {
      "text/plain": [
       "(0.4141111111111112,\n",
       " -826.1992222222225,\n",
       " 0.005006576435711379,\n",
       " 0.9740220796991917)"
      ]
     },
     "execution_count": 341,
     "metadata": {},
     "output_type": "execute_result"
    }
   ],
   "source": [
    "##try to model mean price growth\n",
    "mean = []\n",
    "year = []\n",
    "for i in lst:\n",
    "    mean.append(i['Prices'].mean())\n",
    "    year.append(i['Year'].mean())\n",
    "x,y = np.array(year),np.array(mean)\n",
    "slope, intercept, r_value, p_value, std_err = stats.linregress(x, y)\n",
    "plt.plot(x, y, 'o', label='original data')\n",
    "plt.plot(x, intercept + slope*x, 'r', label='fitted line')\n",
    "plt.legend()\n",
    "plt.show()\n",
    "slope,intercept,p_value,r_value"
   ]
  },
  {
   "cell_type": "code",
   "execution_count": 346,
   "id": "f2dd8b23",
   "metadata": {
    "scrolled": false
   },
   "outputs": [
    {
     "data": {
      "text/plain": [
       "<AxesSubplot:xlabel='Month', ylabel='deviation'>"
      ]
     },
     "execution_count": 346,
     "metadata": {},
     "output_type": "execute_result"
    },
    {
     "data": {
      "image/png": "[encoded data removed]",
      "text/plain": [
       "<Figure size 432x288 with 1 Axes>"
      ]
     },
     "metadata": {
      "needs_background": "light"
     },
     "output_type": "display_data"
    }
   ],
   "source": [
    "##model iter-year variation away from mean\n",
    "mdf = pd.Series(mean,year)\n",
    "df['yearly average'] = df['Year'].map(mdf)\n",
    "df['deviation'] = df['yearly average'] - df['Prices']\n",
    "df = df.sort_values(by='Month')\n",
    "df.plot(x = 'Month', y = 'deviation', kind = 'scatter')\n"
   ]
  },
  {
   "cell_type": "code",
   "execution_count": 343,
   "id": "97a0ad42",
   "metadata": {},
   "outputs": [
    {
     "data": {
      "text/plain": [
       "(48,)"
      ]
     },
     "execution_count": 343,
     "metadata": {},
     "output_type": "execute_result"
    }
   ],
   "source": [
    "##normalize data\n",
    "sc = StandardScaler()\n",
    "nmonth = sc.fit_transform(df['Month'].to_numpy().reshape(-1,1)).squeeze()\n",
    "ndev = sc.fit_transform(df['deviation'].to_numpy().reshape(-1,1)).squeeze()\n",
    "nmonth.shape"
   ]
  },
  {
   "cell_type": "code",
   "execution_count": 344,
   "id": "bee4197c",
   "metadata": {},
   "outputs": [],
   "source": [
    "##sinouldal function fitting method\n",
    "import numpy\n",
    "def fit_sin(tt, yy):\n",
    "    '''Fit sin to the input time sequence, and return fitting parameters \"amp\", \"omega\", \"phase\", \"offset\", \"freq\", \"period\" and \"fitfunc\"'''\n",
    "    tt = np.array(tt)\n",
    "    yy = np.array(yy)\n",
    "    ff = np.fft.fftfreq(len(tt), (tt[1]-tt[0]))   # assume uniform spacing\n",
    "    Fyy = abs(numpy.fft.fft(yy))\n",
    "    guess_freq = abs(ff[np.argmax(Fyy[1:])+1])   \n",
    "    guess_amp = np.std(yy) * 2.**0.5\n",
    "    guess_offset = np.mean(yy)\n",
    "    guess = numpy.array([guess_amp, 2.*np.pi*guess_freq, 0., guess_offset])\n",
    "\n",
    "    def sinfunc(t, A, w, p, c):  return A * np.sin(w*t + p) + c\n",
    "    popt, pcov = scipy.optimize.curve_fit(sinfunc, tt, yy, p0=guess)\n",
    "    A, w, p, c = popt\n",
    "    f = w/(2.*numpy.pi)\n",
    "    fitfunc = lambda t: A * numpy.sin(w*t + p) + c\n",
    "    return {\"amp\": A, \"omega\": w, \"phase\": p, \"offset\": c, \"freq\": f, \"period\": 1./f, \"fitfunc\": fitfunc, \"maxcov\": numpy.max(pcov), \"rawres\": (guess,popt,pcov)}"
   ]
  },
  {
   "cell_type": "code",
   "execution_count": 395,
   "id": "5ce3f009",
   "metadata": {
    "scrolled": true
   },
   "outputs": [
    {
     "name": "stdout",
     "output_type": "stream",
     "text": [
      "Amplitude=1.4942313088129526, Angular freq.=inf, phase=0.0, offset=4.067729868238604, Max. Cov.=nan\n"
     ]
    },
    {
     "data": {
      "image/png": "[encoded data removed]",
      "text/plain": [
       "<Figure size 432x288 with 1 Axes>"
      ]
     },
     "metadata": {
      "needs_background": "light"
     },
     "output_type": "display_data"
    }
   ],
   "source": [
    "N, amp, omega, phase, offset, noise = 500, 1., 2., .5, 4., 3\n",
    "tt = nmonth\n",
    "tt2 =ndev\n",
    "yy = amp*np.sin(omega*tt + phase) + offset\n",
    "yynoise = yy + noise*(numpy.random.random(len(tt))-0.5)\n",
    "\n",
    "res = fit_sin(tt, yynoise)\n",
    "\n",
    "print( \"Amplitude=%(amp)s, Angular freq.=%(omega)s, phase=%(phase)s, offset=%(offset)s, Max. Cov.=%(maxcov)s\" % res )\n",
    "\n",
    "plt.plot(tt, yy, \"-k\", label=\"y\", linewidth=2)\n",
    "plt.plot(tt, yynoise, \"ok\", label=\"y with noise\")\n",
    "plt.plot(tt2, res[\"fitfunc\"](tt2), \"r-\", label=\"y fit curve\", linewidth=2)\n",
    "plt.legend(loc=\"best\")\n",
    "plt.show()"
   ]
  }
 ],
 "metadata": {
  "kernelspec": {
   "display_name": "Python 3 (ipykernel)",
   "language": "python",
   "name": "python3"
  },
  "language_info": {
   "codemirror_mode": {
    "name": "ipython",
    "version": 3
   },
   "file_extension": ".py",
   "mimetype": "text/x-python",
   "name": "python",
   "nbconvert_exporter": "python",
   "pygments_lexer": "ipython3",
   "version": "3.9.13"
  }
 },
 "nbformat": 4,
 "nbformat_minor": 5
}
